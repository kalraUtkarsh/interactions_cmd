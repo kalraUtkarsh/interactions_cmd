{
 "cells": [
  {
   "cell_type": "code",
   "execution_count": null,
   "metadata": {},
   "outputs": [],
   "source": []
  },
  {
   "cell_type": "code",
   "execution_count": null,
   "metadata": {},
   "outputs": [],
   "source": []
  },
  {
   "cell_type": "code",
   "execution_count": 3,
   "metadata": {},
   "outputs": [],
   "source": [
    "import math\n",
    "import selenium\n",
    "from selenium import webdriver\n",
    "from selenium.webdriver.common.keys import Keys\n",
    "from selenium.webdriver.common.by import By \n",
    "\n",
    "wd = webdriver.Chrome('./chromedriver.exe')"
   ]
  },
  {
   "cell_type": "code",
   "execution_count": null,
   "metadata": {},
   "outputs": [],
   "source": []
  },
  {
   "cell_type": "code",
   "execution_count": null,
   "metadata": {},
   "outputs": [],
   "source": [
    "search_number = \"3.2.1.4\"\n",
    "initial_url = f'http://www.cazy.org/search?page=recherche&lang=en&recherche={search_number}&tag=9'\n",
    "wd.get(initial_url)\n",
    "# elem = wd.find_element(\"class_name\",\"paragraphe\")\n",
    "# print(elem.text)\n",
    "final_dict = {\"Protein name\":[], \"EC#\":[], \"Uniprot\":[]}\n",
    "\n",
    "aTagsInLi = wd.find_elements(By.CSS_SELECTOR,'li a')\n",
    "element_list = []\n",
    "hits = wd.find_element(By.CSS_SELECTOR,'h2')\n",
    "hits = math.ceil(int(hits.text.split('hits')[0].split(' ')[-2][1:])/10)\n",
    "print(hits)\n",
    "for a in aTagsInLi:\n",
    "    if str(a.get_attribute('href')).endswith('html'):\n",
    "        element_list.append(a.get_attribute('href'))\n",
    "for i in range(hits-1):\n",
    "\n",
    "    initial_2_url = f'{initial_url}&debut_knoact={i*10}#pagination_knoact'\n",
    "    wd.get(initial_url)\n",
    "    aTagsInLi = wd.find_elements(By.CSS_SELECTOR,'li a')\n",
    "    for a in aTagsInLi:\n",
    "        if str(a.get_attribute('href')).endswith('html'):\n",
    "            element_list.append(a.get_attribute('href'))"
   ]
  },
  {
   "cell_type": "code",
   "execution_count": null,
   "metadata": {},
   "outputs": [],
   "source": [
    "element_list"
   ]
  },
  {
   "cell_type": "code",
   "execution_count": 2,
   "metadata": {},
   "outputs": [
    {
     "data": {
      "text/plain": [
       "2"
      ]
     },
     "execution_count": 2,
     "metadata": {},
     "output_type": "execute_result"
    }
   ],
   "source": [
    "a = [ [8, 12], [13, 9], [2, 5], [1, 10], [13, 13] ]\n",
    "min(a, key=lambda x: x[1])[0]\n"
   ]
  },
  {
   "cell_type": "code",
   "execution_count": 4,
   "metadata": {},
   "outputs": [],
   "source": [
    "def get_distance(a,b):\n",
    "    return 0\n"
   ]
  },
  {
   "cell_type": "code",
   "execution_count": 3,
   "metadata": {},
   "outputs": [],
   "source": [
    "residue_chunk = ['bl a',[1,3],[1,4],'LS S']"
   ]
  },
  {
   "cell_type": "code",
   "execution_count": 8,
   "metadata": {},
   "outputs": [
    {
     "data": {
      "text/plain": [
       "1"
      ]
     },
     "execution_count": 8,
     "metadata": {},
     "output_type": "execute_result"
    }
   ],
   "source": [
    "min(\n",
    "        [\n",
    "            [line, get_distance(line, line.split(\" \")if type(line) is str else line)]\n",
    "            for line in residue_chunk\n",
    "        ],\n",
    "        key=lambda x: x[1],\n",
    "    )[0]"
   ]
  },
  {
   "cell_type": "code",
   "execution_count": 12,
   "metadata": {},
   "outputs": [],
   "source": [
    "import math\n",
    "def dot(vA, vB):\n",
    "    return vA[0]*vB[0]+vA[1]*vB[1]\n",
    "\n",
    "def ang(lineA, lineB):\n",
    "    # Get nicer vector form\n",
    "    vA = [(lineA[0][0]-lineA[1][0]), (lineA[0][1]-lineA[1][1])]\n",
    "    vB = [(lineB[0][0]-lineB[1][0]), (lineB[0][1]-lineB[1][1])]\n",
    "    # Get dot prod\n",
    "    dot_prod = dot(vA, vB)\n",
    "    # Get magnitudes\n",
    "    magA = dot(vA, vA)**0.5\n",
    "    magB = dot(vB, vB)**0.5\n",
    "    # Get cosine value\n",
    "    cos_ = dot_prod/magA/magB\n",
    "    # Get angle in radians and then convert to degrees\n",
    "    angle = math.acos(dot_prod/magB/magA)\n",
    "    # Basically doing angle <- angle mod 360\n",
    "    ang_deg = math.degrees(angle)%360\n",
    "    \n",
    "    if ang_deg-180>=0:\n",
    "        # As in if statement\n",
    "        return 360 - ang_deg\n",
    "    else: \n",
    "        \n",
    "        return ang_deg\n"
   ]
  },
  {
   "cell_type": "code",
   "execution_count": 13,
   "metadata": {},
   "outputs": [
    {
     "data": {
      "text/plain": [
       "90.0"
      ]
     },
     "execution_count": 13,
     "metadata": {},
     "output_type": "execute_result"
    }
   ],
   "source": [
    "ang([[0,0],[1,0]],[[0,0],[0,1]])"
   ]
  },
  {
   "cell_type": "code",
   "execution_count": null,
   "metadata": {},
   "outputs": [],
   "source": [
    "!pip install vg"
   ]
  },
  {
   "cell_type": "code",
   "execution_count": 18,
   "metadata": {},
   "outputs": [
    {
     "data": {
      "text/plain": [
       "90.0"
      ]
     },
     "execution_count": 18,
     "metadata": {},
     "output_type": "execute_result"
    }
   ],
   "source": [
    "import vg\n",
    "import numpy as np\n",
    "x1,y1,z1 = 1,0,0\n",
    "x2,y2,z2 = 0,1,0\n",
    "vec1 = np.array([x1, y1, z1])\n",
    "vec2 = np.array([x2, y2, z2])\n",
    "\n",
    "vg.angle(vec1, vec2)"
   ]
  }
 ],
 "metadata": {
  "kernelspec": {
   "display_name": "Python 3.8.0 64-bit",
   "language": "python",
   "name": "python3"
  },
  "language_info": {
   "codemirror_mode": {
    "name": "ipython",
    "version": 3
   },
   "file_extension": ".py",
   "mimetype": "text/x-python",
   "name": "python",
   "nbconvert_exporter": "python",
   "pygments_lexer": "ipython3",
   "version": "3.8.0"
  },
  "orig_nbformat": 4,
  "vscode": {
   "interpreter": {
    "hash": "25d775a05cd5ef828ac55111e2d25fe7a8cdee116904ae28746ef0f2500c8ec5"
   }
  }
 },
 "nbformat": 4,
 "nbformat_minor": 2
}
